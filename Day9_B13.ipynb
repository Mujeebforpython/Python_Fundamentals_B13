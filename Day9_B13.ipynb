{
 "cells": [
  {
   "cell_type": "code",
   "execution_count": null,
   "metadata": {},
   "outputs": [],
   "source": [
    "continuation of dictionary data types:"
   ]
  },
  {
   "cell_type": "code",
   "execution_count": null,
   "metadata": {},
   "outputs": [],
   "source": [
    "#how to modify a dictionary:"
   ]
  },
  {
   "cell_type": "code",
   "execution_count": 1,
   "metadata": {},
   "outputs": [
    {
     "name": "stdout",
     "output_type": "stream",
     "text": [
      "{'color': 'green', 'points': 5}\n"
     ]
    }
   ],
   "source": [
    "alien = {'color':'green', 'points':5}\n",
    "\n",
    "print(alien)"
   ]
  },
  {
   "cell_type": "code",
   "execution_count": null,
   "metadata": {},
   "outputs": [],
   "source": [
    "#requirements ---> modify the color and points of the alien."
   ]
  },
  {
   "cell_type": "code",
   "execution_count": 2,
   "metadata": {},
   "outputs": [
    {
     "name": "stdout",
     "output_type": "stream",
     "text": [
      "{'color': 'yellow', 'points': 5}\n"
     ]
    }
   ],
   "source": [
    "alien['color'] = 'yellow'\n",
    "\n",
    "print(alien)"
   ]
  },
  {
   "cell_type": "code",
   "execution_count": null,
   "metadata": {},
   "outputs": [],
   "source": [
    "modify the points to get as 10 "
   ]
  },
  {
   "cell_type": "code",
   "execution_count": 3,
   "metadata": {},
   "outputs": [
    {
     "name": "stdout",
     "output_type": "stream",
     "text": [
      "{'color': 'yellow', 'points': 10}\n"
     ]
    }
   ],
   "source": [
    "alien['points'] = 10\n",
    "\n",
    "print(alien)"
   ]
  },
  {
   "cell_type": "code",
   "execution_count": 4,
   "metadata": {},
   "outputs": [
    {
     "name": "stdout",
     "output_type": "stream",
     "text": [
      "The alien is now changed to yellow\n"
     ]
    }
   ],
   "source": [
    "#requirement --> printing the modified color \n",
    "\n",
    "print(f\"The alien is now changed to {alien['color']}\")"
   ]
  },
  {
   "cell_type": "code",
   "execution_count": 5,
   "metadata": {},
   "outputs": [
    {
     "name": "stdout",
     "output_type": "stream",
     "text": [
      "you will be getting 10 for every kill of yellow alien!\n"
     ]
    }
   ],
   "source": [
    "#requirement --> printing the modified points \n",
    "\n",
    "print(f\"you will be getting {alien['points']} for every kill of {alien['color']} alien!\")"
   ]
  },
  {
   "cell_type": "code",
   "execution_count": 7,
   "metadata": {},
   "outputs": [],
   "source": [
    "#different approach of declaring a dictionary:\n",
    "\n",
    "\n",
    "fav_languages = {\n",
    "    'prakash':'python',\n",
    "    'madhuri':'java',\n",
    "    'poonam':'c++',\n",
    "    'ravi':'c',\n",
    "    'chandana':'rubyonrails'\n",
    "}"
   ]
  },
  {
   "cell_type": "code",
   "execution_count": 10,
   "metadata": {},
   "outputs": [
    {
     "name": "stdout",
     "output_type": "stream",
     "text": [
      "{'prakash': 'python', 'madhuri': 'java', 'poonam': 'c++', 'ravi': 'c', 'chandana': 'rubyonrails'}\n"
     ]
    }
   ],
   "source": [
    "print(fav_languages)"
   ]
  },
  {
   "cell_type": "code",
   "execution_count": 13,
   "metadata": {},
   "outputs": [
    {
     "name": "stdout",
     "output_type": "stream",
     "text": [
      "Prakash's favourite lanaguage is Python.\n"
     ]
    }
   ],
   "source": [
    "language = fav_languages['prakash'].title()\n",
    "\n",
    "print(f\"Prakash's favourite lanaguage is {language}.\")"
   ]
  },
  {
   "cell_type": "code",
   "execution_count": null,
   "metadata": {},
   "outputs": [],
   "source": []
  }
 ],
 "metadata": {
  "kernelspec": {
   "display_name": "Python 3",
   "language": "python",
   "name": "python3"
  },
  "language_info": {
   "codemirror_mode": {
    "name": "ipython",
    "version": 3
   },
   "file_extension": ".py",
   "mimetype": "text/x-python",
   "name": "python",
   "nbconvert_exporter": "python",
   "pygments_lexer": "ipython3",
   "version": "3.7.4"
  }
 },
 "nbformat": 4,
 "nbformat_minor": 2
}
