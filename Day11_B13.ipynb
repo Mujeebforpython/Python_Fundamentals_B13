{
 "cells": [
  {
   "cell_type": "code",
   "execution_count": 1,
   "metadata": {},
   "outputs": [],
   "source": [
    "#looping through all the values in the dictionary:"
   ]
  },
  {
   "cell_type": "code",
   "execution_count": 3,
   "metadata": {},
   "outputs": [],
   "source": [
    "user_0 = {'username':'john',\n",
    "          'firstname':'abraham',\n",
    "          'lastname':'lincoln'}"
   ]
  },
  {
   "cell_type": "code",
   "execution_count": 4,
   "metadata": {},
   "outputs": [
    {
     "name": "stdout",
     "output_type": "stream",
     "text": [
      "{'username': 'john', 'firstname': 'abraham', 'lastname': 'lincoln'}\n"
     ]
    }
   ],
   "source": [
    "print(user_0)"
   ]
  },
  {
   "cell_type": "code",
   "execution_count": 5,
   "metadata": {},
   "outputs": [
    {
     "data": {
      "text/plain": [
       "dict"
      ]
     },
     "execution_count": 5,
     "metadata": {},
     "output_type": "execute_result"
    }
   ],
   "source": [
    "type(user_0)"
   ]
  },
  {
   "cell_type": "code",
   "execution_count": null,
   "metadata": {},
   "outputs": [],
   "source": [
    "#normal for loop condition:\n",
    "\n",
    "for tempvar in mainvar:\n",
    "    print(tempvar) "
   ]
  },
  {
   "cell_type": "code",
   "execution_count": 6,
   "metadata": {},
   "outputs": [
    {
     "name": "stdout",
     "output_type": "stream",
     "text": [
      "\n",
      "key: username\n",
      "value: john\n",
      "\n",
      "key: firstname\n",
      "value: abraham\n",
      "\n",
      "key: lastname\n",
      "value: lincoln\n"
     ]
    }
   ],
   "source": [
    "for key,value in user_0.items(): #temp var are key, value\n",
    "    print(f\"\\nkey: {key}\") #key --> tempvar\n",
    "    print(f\"value: {value}\") #value --> tempvar"
   ]
  },
  {
   "cell_type": "code",
   "execution_count": 7,
   "metadata": {},
   "outputs": [
    {
     "name": "stdout",
     "output_type": "stream",
     "text": [
      "key: username\n",
      "value: john\n",
      "key: firstname\n",
      "value: abraham\n",
      "key: lastname\n",
      "value: lincoln\n"
     ]
    }
   ],
   "source": [
    "for key,value in user_0.items(): #temp var are key, value\n",
    "    print(f\"key: {key}\") #key --> tempvar\n",
    "    print(f\"value: {value}\") #value --> tempvar"
   ]
  },
  {
   "cell_type": "code",
   "execution_count": 8,
   "metadata": {},
   "outputs": [
    {
     "name": "stdout",
     "output_type": "stream",
     "text": [
      "\n",
      "key: username\n",
      "value: john\n",
      "\n",
      "key: firstname\n",
      "value: abraham\n",
      "\n",
      "key: lastname\n",
      "value: lincoln\n"
     ]
    }
   ],
   "source": [
    "for a,b in user_0.items():\n",
    "    print(f\"\\nkey: {a}\")\n",
    "    print(f\"value: {b}\")"
   ]
  },
  {
   "cell_type": "code",
   "execution_count": 9,
   "metadata": {},
   "outputs": [],
   "source": [
    "#requirement ---> i want to get only keys, on values are needed."
   ]
  },
  {
   "cell_type": "code",
   "execution_count": 10,
   "metadata": {},
   "outputs": [
    {
     "name": "stdout",
     "output_type": "stream",
     "text": [
      "username\n",
      "firstname\n",
      "lastname\n"
     ]
    }
   ],
   "source": [
    "for a in user_0.keys():\n",
    "    print(a)"
   ]
  },
  {
   "cell_type": "code",
   "execution_count": 11,
   "metadata": {},
   "outputs": [],
   "source": [
    "#requirement ---> i want to get only values, on keys are needed."
   ]
  },
  {
   "cell_type": "code",
   "execution_count": 13,
   "metadata": {},
   "outputs": [
    {
     "name": "stdout",
     "output_type": "stream",
     "text": [
      "john\n",
      "abraham\n",
      "lincoln\n"
     ]
    }
   ],
   "source": [
    "for b in user_0.values():\n",
    "    print(b)"
   ]
  },
  {
   "cell_type": "code",
   "execution_count": 18,
   "metadata": {},
   "outputs": [],
   "source": [
    "fav_languauges = {\n",
    "    'vikram':'python',\n",
    "    'poonam':'java',\n",
    "    'muzzamil':'c++',\n",
    "    'vivek':'cobal',\n",
    "    'sri':'pascal'\n",
    "}"
   ]
  },
  {
   "cell_type": "code",
   "execution_count": 25,
   "metadata": {},
   "outputs": [
    {
     "name": "stdout",
     "output_type": "stream",
     "text": [
      "{'vikram': 'python', 'poonam': 'java', 'muzzamil': 'c++', 'vivek': 'cobal', 'sri': 'pascal'}\n"
     ]
    }
   ],
   "source": [
    "print(fav_languauges)"
   ]
  },
  {
   "cell_type": "code",
   "execution_count": 26,
   "metadata": {},
   "outputs": [],
   "source": [
    "#requirement ---> to print and loop through the dictionary in a particular order."
   ]
  },
  {
   "cell_type": "code",
   "execution_count": 29,
   "metadata": {},
   "outputs": [
    {
     "name": "stdout",
     "output_type": "stream",
     "text": [
      " Muzzamil, thank you for making fav_languauges poll survey.\n",
      " Poonam, thank you for making fav_languauges poll survey.\n",
      " Sri, thank you for making fav_languauges poll survey.\n",
      " Vikram, thank you for making fav_languauges poll survey.\n",
      " Vivek, thank you for making fav_languauges poll survey.\n"
     ]
    }
   ],
   "source": [
    "for name in sorted(fav_languauges.keys()):\n",
    "    print (f\" {name.title()}, thank you for making fav_languauges poll survey.\")"
   ]
  },
  {
   "cell_type": "code",
   "execution_count": 30,
   "metadata": {},
   "outputs": [],
   "source": [
    "#introduction to while loops: #Iteration"
   ]
  },
  {
   "cell_type": "code",
   "execution_count": 31,
   "metadata": {},
   "outputs": [
    {
     "name": "stdout",
     "output_type": "stream",
     "text": [
      "1\n",
      "2\n",
      "3\n",
      "4\n",
      "5\n",
      "6\n",
      "7\n",
      "8\n",
      "9\n",
      "10\n"
     ]
    }
   ],
   "source": [
    "current_num = 1 #declaration of var\n",
    "\n",
    "while current_num <=10: # while condition  #for 11 the condition is failing so it will come out of the loop.\n",
    "    print(current_num) #print statement\n",
    "    current_num +=1 #current_num = current_num+1 = 2,3,4,5,6,7,8,9,10,11"
   ]
  },
  {
   "cell_type": "code",
   "execution_count": null,
   "metadata": {},
   "outputs": [],
   "source": [
    "#difference between for loop and while loop.\n",
    "\n",
    "for loop:\n",
    "    \n",
    "    for loop takes a collection of  items and executes a block of code on to each item in the collection provided.\n",
    "    \n",
    "while loop:\n",
    "    \n",
    "    while loop runs and executes as long as certain condition is true."
   ]
  },
  {
   "cell_type": "code",
   "execution_count": null,
   "metadata": {},
   "outputs": [],
   "source": []
  },
  {
   "cell_type": "code",
   "execution_count": null,
   "metadata": {},
   "outputs": [],
   "source": []
  },
  {
   "cell_type": "code",
   "execution_count": null,
   "metadata": {},
   "outputs": [],
   "source": []
  }
 ],
 "metadata": {
  "kernelspec": {
   "display_name": "Python 3",
   "language": "python",
   "name": "python3"
  },
  "language_info": {
   "codemirror_mode": {
    "name": "ipython",
    "version": 3
   },
   "file_extension": ".py",
   "mimetype": "text/x-python",
   "name": "python",
   "nbconvert_exporter": "python",
   "pygments_lexer": "ipython3",
   "version": "3.7.4"
  }
 },
 "nbformat": 4,
 "nbformat_minor": 2
}
